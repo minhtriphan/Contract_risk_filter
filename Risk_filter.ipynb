{
 "cells": [
  {
   "cell_type": "code",
   "execution_count": 1,
   "metadata": {},
   "outputs": [
    {
     "name": "stdout",
     "output_type": "stream",
     "text": [
      "     A  B  C  D  E  F  default\n",
      "a11  0  0  1  0  1  1        1\n",
      "a12  1  1  1  1  0  0        1\n",
      "a13  0  0  0  0  1  1        1\n",
      "b11  1  1  1  0  0  0        0\n",
      "b12  0  0  1  1  0  1        0\n",
      "b13  0  1  0  1  1  0        1\n",
      "c11  1  0  1  0  1  0        1\n",
      "c12  1  0  1  0  1  0        0\n",
      "c13  0  1  0  0  0  1        0\n",
      "d11  0  0  1  1  0  1        1\n",
      "d12  1  1  0  0  1  0        0\n",
      "d13  0  1  1  0  1  0        1\n",
      "['A', 'B', 'C', 'D', 'E', 'F', 'default']\n"
     ]
    }
   ],
   "source": [
    "import numpy as np\n",
    "import pandas as pd\n",
    "\n",
    "# Import the data\n",
    "data = pd.read_csv('test.csv', index_col = 0)\n",
    "head = list(data)\n",
    "print(data)\n",
    "print(head)"
   ]
  },
  {
   "cell_type": "code",
   "execution_count": 2,
   "metadata": {},
   "outputs": [
    {
     "name": "stdout",
     "output_type": "stream",
     "text": [
      "7\n"
     ]
    }
   ],
   "source": [
    "# If we want to combine 2 indicators, the total cases are 6x6 = 36 cases (including the case of same indicators)\n",
    "\n",
    "# Number of indicators\n",
    "num_indi = data.shape[1]\n",
    "print(num_indi)\n",
    "\n",
    "# Idea is, we create a matrix that shows the risk using each pair of indicators\n",
    "risk = np.zeros(shape = [num_indi-1, num_indi-1])\n",
    "num_contract = np.zeros(shape = [num_indi-1, num_indi-1])\n",
    "\n",
    "# Loop over the indicators\n",
    "row = range(0,data.shape[0]-1)\n",
    "\n",
    "for i in head[:len(head)-2]:\n",
    "    for j in head[:len(head)-2]:\n",
    "        # Now, we refine by using the column i as the first priority, the column j follows as the secondary\n",
    "        # Refine by column i first\n",
    "        refined_i = data.loc[data.loc[:,i] == 0]\n",
    "        # Refined data after i and j\n",
    "        df = refined_i.loc[refined_i.loc[:,j] == 0]\n",
    "        # Convert the index in numbers\n",
    "        a = head.index(i)\n",
    "        b = head.index(j)\n",
    "        # Count the number of contracts\n",
    "        num_contract[a,b] = df.shape[0]\n",
    "        # Count the number of default contracts\n",
    "        num_default = list(df.iloc[:,-1]).count(1)\n",
    "        risk[a,b] = num_default/(data.shape[0])"
   ]
  },
  {
   "cell_type": "code",
   "execution_count": 3,
   "metadata": {},
   "outputs": [
    {
     "name": "stdout",
     "output_type": "stream",
     "text": [
      "[[0.41666667 0.25       0.16666667 0.25       0.08333333 0.        ]\n",
      " [0.25       0.33333333 0.08333333 0.25       0.08333333 0.        ]\n",
      " [0.16666667 0.08333333 0.16666667 0.08333333 0.         0.        ]\n",
      " [0.25       0.25       0.08333333 0.33333333 0.         0.        ]\n",
      " [0.08333333 0.08333333 0.         0.         0.16666667 0.        ]\n",
      " [0.         0.         0.         0.         0.         0.        ]]\n",
      "[[7. 4. 3. 4. 3. 0.]\n",
      " [4. 6. 1. 4. 2. 0.]\n",
      " [3. 1. 4. 3. 1. 0.]\n",
      " [4. 4. 3. 8. 2. 0.]\n",
      " [3. 2. 1. 2. 5. 0.]\n",
      " [0. 0. 0. 0. 0. 0.]]\n"
     ]
    }
   ],
   "source": [
    "print(risk)\n",
    "print(num_contract)"
   ]
  },
  {
   "cell_type": "code",
   "execution_count": null,
   "metadata": {},
   "outputs": [],
   "source": [
    "# The matrix risk indicates the risk of each combination, (i,j) elements is the risk if we combine the indicator i and j\n",
    "# The num_contract matrix demonstrates the respective number of contracts"
   ]
  }
 ],
 "metadata": {
  "kernelspec": {
   "display_name": "Python 3",
   "language": "python",
   "name": "python3"
  },
  "language_info": {
   "codemirror_mode": {
    "name": "ipython",
    "version": 3
   },
   "file_extension": ".py",
   "mimetype": "text/x-python",
   "name": "python",
   "nbconvert_exporter": "python",
   "pygments_lexer": "ipython3",
   "version": "3.6.5"
  }
 },
 "nbformat": 4,
 "nbformat_minor": 2
}
